{
 "cells": [
  {
   "cell_type": "code",
   "execution_count": 44,
   "metadata": {
    "collapsed": true
   },
   "outputs": [],
   "source": [
    "import pandas as pd\n",
    "import numpy as np\n",
    "from sklearn.linear_model import LinearRegression"
   ]
  },
  {
   "cell_type": "code",
   "execution_count": 37,
   "metadata": {
    "collapsed": true
   },
   "outputs": [],
   "source": [
    "class LinearRegression:\n",
    "    \n",
    "    def step_gradient(self, x, y, learning_rate, w, b):\n",
    "        for i in range(len(x)):\n",
    "            pred = np.dot(x[i], w) + b\n",
    "            for j in range(len(w)):\n",
    "                w[j] += learning_rate * (y[i] - pred) * x[i][j]\n",
    "            b += learning_rate * (y[i] - pred)\n",
    "        return w, b\n",
    "\n",
    "    def cost(self, x, y, w, b):\n",
    "        total_cost = 0\n",
    "        for i in range(len(x)):\n",
    "            pred = np.dot(x[i], w) + b\n",
    "            total_cost += (y[i] - pred) ** 2\n",
    "        return total_cost / len(x)\n",
    "\n",
    "    def fit(self, x_train, y_train, learning_rate, maxItr = 100):\n",
    "        N = x_train.shape[1]\n",
    "        w = [0 for i in range(N)]\n",
    "        b = 0\n",
    "        print('START: ', self.cost(x_train, y_train, w, b))\n",
    "        for i in range(maxItr):\n",
    "            w, b = self.step_gradient(x_train, y_train, learning_rate, w, b)\n",
    "        print('FINAL: ', self.cost(x_train, y_train, w, b))\n",
    "        return w, b\n",
    "    \n",
    "    def predict(self, x_test, w, b):\n",
    "        predictions = []\n",
    "        for x in x_test:\n",
    "            predictions.append(np.dot(x, w) + b)\n",
    "        return np.array(predictions)\n",
    "    \n",
    "    def r2_score(self, x_test, y_test, w, b):\n",
    "        y_pred = self.predict(x_test, w, b)\n",
    "        tot = ((y_test - y_test.mean()) ** 2).sum()\n",
    "        res = ((y_test - y_pred) ** 2).sum()\n",
    "        score = 1 - (res / tot)\n",
    "        return score"
   ]
  },
  {
   "cell_type": "code",
   "execution_count": 24,
   "metadata": {
    "collapsed": true
   },
   "outputs": [],
   "source": [
    "df_train = pd.read_csv('AIR QUALITY - TRAIN.csv')\n",
    "df_test = pd.read_csv('AIR QUALITY - TEST.csv')"
   ]
  },
  {
   "cell_type": "code",
   "execution_count": 34,
   "metadata": {
    "collapsed": true
   },
   "outputs": [],
   "source": [
    "# training data\n",
    "x_train = np.array([df_train[df_train.columns[i]] for i in range(len(df_train.columns)-1)]).T\n",
    "y_train = np.array(df_train.target)\n",
    "\n",
    "# test data\n",
    "x_test = np.array([df_test[df_test.columns[i]] for i in range(len(df_test.columns)-1)]).T\n",
    "y_test = np.array(df_test.target)"
   ]
  },
  {
   "cell_type": "markdown",
   "metadata": {},
   "source": [
    "### Using our custom built Linear Regression"
   ]
  },
  {
   "cell_type": "code",
   "execution_count": 38,
   "metadata": {},
   "outputs": [
    {
     "name": "stdout",
     "output_type": "stream",
     "text": [
      "START:  12256.130414\n",
      "FINAL:  415.558306116\n"
     ]
    }
   ],
   "source": [
    "clf = LinearRegression()\n",
    "w, b = clf.fit(x, y, 0.0001)"
   ]
  },
  {
   "cell_type": "code",
   "execution_count": 39,
   "metadata": {},
   "outputs": [
    {
     "name": "stdout",
     "output_type": "stream",
     "text": [
      "0.969139950243\n"
     ]
    }
   ],
   "source": [
    "print(clf.r2_score(x_test, y_test, w, b))"
   ]
  },
  {
   "cell_type": "markdown",
   "metadata": {
    "collapsed": true
   },
   "source": [
    "### Using Linear Regression from sklearn"
   ]
  },
  {
   "cell_type": "code",
   "execution_count": 51,
   "metadata": {},
   "outputs": [
    {
     "data": {
      "text/plain": [
       "LinearRegression(copy_X=True, fit_intercept=True, n_jobs=1, normalize=False)"
      ]
     },
     "execution_count": 51,
     "metadata": {},
     "output_type": "execute_result"
    }
   ],
   "source": [
    "clf = LinearRegression()\n",
    "clf.fit(x_train, y_train)"
   ]
  },
  {
   "cell_type": "code",
   "execution_count": 50,
   "metadata": {},
   "outputs": [
    {
     "name": "stdout",
     "output_type": "stream",
     "text": [
      "0.969148840473\n"
     ]
    }
   ],
   "source": [
    "print(clf.score(x_test, y_test))"
   ]
  }
 ],
 "metadata": {
  "kernelspec": {
   "display_name": "Python 3",
   "language": "python",
   "name": "python3"
  },
  "language_info": {
   "codemirror_mode": {
    "name": "ipython",
    "version": 3
   },
   "file_extension": ".py",
   "mimetype": "text/x-python",
   "name": "python",
   "nbconvert_exporter": "python",
   "pygments_lexer": "ipython3",
   "version": "3.6.3"
  }
 },
 "nbformat": 4,
 "nbformat_minor": 2
}

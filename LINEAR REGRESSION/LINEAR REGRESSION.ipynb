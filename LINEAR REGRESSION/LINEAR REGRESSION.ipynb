{
 "cells": [
  {
   "cell_type": "code",
   "execution_count": 1,
   "metadata": {
    "collapsed": true
   },
   "outputs": [],
   "source": [
    "import pandas as pd\n",
    "import numpy as np\n",
    "from sklearn.linear_model import LinearRegression"
   ]
  },
  {
   "cell_type": "code",
   "execution_count": 2,
   "metadata": {
    "collapsed": true
   },
   "outputs": [],
   "source": [
    "def step_gradient(x, y, learning_rate, w, b):\n",
    "    for i in range(len(x)):\n",
    "        pred = (np.array(x[i]) * np.array(w)).sum() + b\n",
    "        for j in range(len(w)):\n",
    "            w[j] += learning_rate * (y[i] - pred) * x[i][j]\n",
    "        b += learning_rate * (y[i] - pred)\n",
    "    \n",
    "    return w, b\n",
    "\n",
    "\n",
    "def cost(x, y, w, b):\n",
    "    total_cost = 0\n",
    "    for i in range(len(x)):\n",
    "        pred = (np.array(x[i]) * np.array(w)).sum() + b\n",
    "        total_cost += (y[i] - pred) ** 2\n",
    "    return total_cost / len(x)\n",
    "\n",
    "\n",
    "def fit(x_train, y_train, learning_rate, num_iterations, N):\n",
    "    w = [0 for i in range(N)]\n",
    "    b = 0\n",
    "    print('START: ', cost(x_train, y_train, w, b))\n",
    "    for i in range(num_iterations):\n",
    "        w, b = step_gradient(x_train, y_train, learning_rate, w, b)\n",
    "    print('FINAL: ', cost(x_train, y_train, w, b))\n",
    "    return w, b"
   ]
  },
  {
   "cell_type": "code",
   "execution_count": 3,
   "metadata": {
    "collapsed": true
   },
   "outputs": [],
   "source": [
    "df_train = pd.read_csv('../CB - ML/DATASETS/AIR QUALITY - TRAIN.csv')\n",
    "df_test = pd.read_csv('../CB - ML/DATASETS/AIR QUALITY - TEST.csv')"
   ]
  },
  {
   "cell_type": "code",
   "execution_count": 4,
   "metadata": {
    "collapsed": true
   },
   "outputs": [],
   "source": [
    "x_train = [df_train['feature_1'], df_train['feature_2'], df_train['feature_3'], df_train['feature_4'], df_train['feature_5']]\n",
    "x_train = list(np.transpose(x_train))\n",
    "for i in range(len(x_train)):\n",
    "    x_train[i] = list(x_train[i])\n",
    "y_train = df_train.target"
   ]
  },
  {
   "cell_type": "code",
   "execution_count": 5,
   "metadata": {},
   "outputs": [
    {
     "name": "stdout",
     "output_type": "stream",
     "text": [
      "START:  12256.130414032892\n",
      "FINAL:  415.5583061164081\n"
     ]
    }
   ],
   "source": [
    "w, b = fit(x_train, y_train, 0.0001, 100, 5)"
   ]
  },
  {
   "cell_type": "code",
   "execution_count": 6,
   "metadata": {
    "collapsed": true
   },
   "outputs": [],
   "source": [
    "x_test = [df_test['feature_1'], df_test['feature_2'], df_test['feature_3'], df_test['feature_4'], df_test['feature_5']]\n",
    "x_test = list(np.transpose(x_test))\n",
    "for i in range(len(x_test)):\n",
    "    x_test[i] = list(x_test[i])\n",
    "y_test = df_test.target"
   ]
  },
  {
   "cell_type": "code",
   "execution_count": 7,
   "metadata": {
    "collapsed": true
   },
   "outputs": [],
   "source": [
    "y_pred = []\n",
    "for i in range(len(x_test)):\n",
    "    pred = (np.array(x_test[i]) * np.array(w)).sum() + b\n",
    "    y_pred.append(pred)"
   ]
  },
  {
   "cell_type": "code",
   "execution_count": 8,
   "metadata": {
    "collapsed": true
   },
   "outputs": [],
   "source": [
    "y_test = np.array(y_test)\n",
    "y_pred = np.array(y_pred)\n",
    "tot = ((y_test - y_test.mean()) ** 2).sum()\n",
    "res = ((y_test - y_pred) ** 2).sum()\n",
    "r2_score = 1 - (res / tot)"
   ]
  },
  {
   "cell_type": "code",
   "execution_count": 9,
   "metadata": {},
   "outputs": [
    {
     "name": "stdout",
     "output_type": "stream",
     "text": [
      "0.9691399502430492\n"
     ]
    }
   ],
   "source": [
    "print(r2_score)"
   ]
  },
  {
   "cell_type": "code",
   "execution_count": 10,
   "metadata": {
    "collapsed": true
   },
   "outputs": [],
   "source": [
    "clf = LinearRegression()"
   ]
  },
  {
   "cell_type": "code",
   "execution_count": 11,
   "metadata": {},
   "outputs": [
    {
     "data": {
      "text/plain": [
       "LinearRegression(copy_X=True, fit_intercept=True, n_jobs=1, normalize=False)"
      ]
     },
     "execution_count": 11,
     "metadata": {},
     "output_type": "execute_result"
    }
   ],
   "source": [
    "clf.fit(x_train, y_train)"
   ]
  },
  {
   "cell_type": "code",
   "execution_count": 12,
   "metadata": {},
   "outputs": [
    {
     "name": "stdout",
     "output_type": "stream",
     "text": [
      "0.9691488404729197\n"
     ]
    }
   ],
   "source": [
    "print(clf.score(x_test, y_test))"
   ]
  },
  {
   "cell_type": "code",
   "execution_count": null,
   "metadata": {
    "collapsed": true
   },
   "outputs": [],
   "source": []
  }
 ],
 "metadata": {
  "kernelspec": {
   "display_name": "Python 3",
   "language": "python",
   "name": "python3"
  },
  "language_info": {
   "codemirror_mode": {
    "name": "ipython",
    "version": 3
   },
   "file_extension": ".py",
   "mimetype": "text/x-python",
   "name": "python",
   "nbconvert_exporter": "python",
   "pygments_lexer": "ipython3",
   "version": "3.6.3"
  }
 },
 "nbformat": 4,
 "nbformat_minor": 2
}

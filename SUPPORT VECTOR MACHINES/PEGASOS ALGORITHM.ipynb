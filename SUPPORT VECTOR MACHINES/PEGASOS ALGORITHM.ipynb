{
 "cells": [
  {
   "cell_type": "code",
   "execution_count": 1,
   "metadata": {
    "collapsed": true
   },
   "outputs": [],
   "source": [
    "import numpy as np\n",
    "from sklearn.datasets import make_classification\n",
    "import matplotlib.pyplot as plt"
   ]
  },
  {
   "cell_type": "code",
   "execution_count": 2,
   "metadata": {
    "collapsed": true
   },
   "outputs": [],
   "source": [
    "class SVM:\n",
    "\n",
    "    def __init__(self, c=1):\n",
    "        self.c = c\n",
    "    \n",
    "    def step_gradient(self, x, y, learning_rate, w, b):\n",
    "        for i in range(len(x)):\n",
    "            ti = y[i]*(np.dot(w, x[i])+b)\n",
    "            for j in range(len(w)):\n",
    "                if ti >= 1:\n",
    "                    w[j] -= learning_rate*w[j]\n",
    "                else:\n",
    "                    w[j] += -learning_rate*w[j] + learning_rate*self.c*y[i]*x[i][j]\n",
    "            if ti < 1:\n",
    "                b += learning_rate*self.c*y[i]\n",
    "        return w, b\n",
    "\n",
    "    def cost(self, x, y, w, b):\n",
    "        total_cost = 0.5*np.dot(w, w)\n",
    "        for i in range(len(x)):\n",
    "            total_cost += self.c*max(0, 1 - y[i]*(np.dot(w, x[i])+b))\n",
    "        return total_cost\n",
    "\n",
    "    def fit(self, x_train, y_train, learning_rate=0.1, maxItr=100):\n",
    "        w = [0 for i in range(x_train.shape[1])]\n",
    "        b = 0\n",
    "        print('START: ', self.cost(x_train, y_train, w, b))\n",
    "        for i in range(maxItr):\n",
    "            w, b = self.step_gradient(x_train, y_train, learning_rate, w, b)\n",
    "        print('FINAL: ', self.cost(x_train, y_train, w, b))\n",
    "        return w, b\n",
    "\n",
    "    def predict(self, X, w, b):\n",
    "        predictions = []\n",
    "        for x in X:\n",
    "            if np.dot(w, x) + b > 0:\n",
    "                predictions.append(1)\n",
    "            else:\n",
    "                predictions.append(-1)\n",
    "        return np.array(predictions)\n",
    "    \n",
    "    def accuracy(self, x_test, y_test, w, b):\n",
    "        y_pred = self.predict(x_test, w, b)\n",
    "        count = (y_pred == y_test).sum()\n",
    "        return count / len(y_test)"
   ]
  },
  {
   "cell_type": "markdown",
   "metadata": {},
   "source": [
    "### Generating linearly separable data"
   ]
  },
  {
   "cell_type": "code",
   "execution_count": 10,
   "metadata": {
    "collapsed": true
   },
   "outputs": [],
   "source": [
    "separable = False\n",
    "while not separable:\n",
    "    samples = make_classification(n_samples=200, n_features=2, n_redundant=0)\n",
    "    red = samples[0][samples[1] == 0]\n",
    "    blue = samples[0][samples[1] == 1]\n",
    "    separable = any([red[:, k].max() < blue[:, k].min() or red[:, k].min() > blue[:, k].max() for k in range(2)])\n",
    "x = samples[0]\n",
    "y = samples[1]\n",
    "for i in range(len(y)):\n",
    "    if y[i] == 0:\n",
    "        y[i] = -1"
   ]
  },
  {
   "cell_type": "markdown",
   "metadata": {},
   "source": [
    "### Training the classifier"
   ]
  },
  {
   "cell_type": "code",
   "execution_count": 11,
   "metadata": {},
   "outputs": [
    {
     "name": "stdout",
     "output_type": "stream",
     "text": [
      "START:  200.0\n",
      "FINAL:  88.2531425587\n"
     ]
    }
   ],
   "source": [
    "clf = SVM()\n",
    "w, b = clf.fit(x, y)"
   ]
  },
  {
   "cell_type": "markdown",
   "metadata": {},
   "source": [
    "### Accuracy and decision boundary"
   ]
  },
  {
   "cell_type": "code",
   "execution_count": 15,
   "metadata": {},
   "outputs": [
    {
     "name": "stdout",
     "output_type": "stream",
     "text": [
      "Accuracy of the algorithm 0.98\n"
     ]
    },
    {
     "data": {
      "image/png": "[encoded data removed]",
      "text/plain": [
       "<matplotlib.figure.Figure at 0x1da40444438>"
      ]
     },
     "metadata": {},
     "output_type": "display_data"
    }
   ],
   "source": [
    "print(\"Accuracy of the algorithm\", clf.accuracy(x, y, w, b))\n",
    "x1 = np.linspace(-1, 1, 10)\n",
    "x2 = [-(w[0]*x1[i] + b)/w[1] for i in range(10)]\n",
    "plt.plot(x1, x2)\n",
    "plt.scatter(x[:,0], x[:,1], c=y)\n",
    "plt.show()"
   ]
  }
 ],
 "metadata": {
  "kernelspec": {
   "display_name": "Python 3",
   "language": "python",
   "name": "python3"
  },
  "language_info": {
   "codemirror_mode": {
    "name": "ipython",
    "version": 3
   },
   "file_extension": ".py",
   "mimetype": "text/x-python",
   "name": "python",
   "nbconvert_exporter": "python",
   "pygments_lexer": "ipython3",
   "version": "3.6.3"
  }
 },
 "nbformat": 4,
 "nbformat_minor": 2
}

{
 "cells": [
  {
   "cell_type": "code",
   "execution_count": 1,
   "metadata": {
    "collapsed": true
   },
   "outputs": [],
   "source": [
    "import numpy as np\n",
    "import matplotlib.pyplot as plt\n",
    "from sklearn.datasets import make_classification\n",
    "from sklearn.datasets import make_blobs"
   ]
  },
  {
   "cell_type": "markdown",
   "metadata": {},
   "source": [
    "## Functions"
   ]
  },
  {
   "cell_type": "code",
   "execution_count": 2,
   "metadata": {
    "collapsed": true
   },
   "outputs": [],
   "source": [
    "# using binary cross entropy as loss and gradient descent for optimization\n",
    "\n",
    "def sigmoid(z):\n",
    "    return (1.0)/(1+np.exp(-z))\n",
    "\n",
    "# Loss function (Binary cross entropy)\n",
    "def loss(X, Y, weights, bias):\n",
    "    Y_ = activation(X, weights, bias)\n",
    "    cost = np.mean(-Y*np.log(Y_)) + np.mean(-(1-Y)*np.log(1-Y_))\n",
    "    return cost\n",
    "\n",
    "def update(X, Y, weights, bias, learning_rate):\n",
    "    Y_ = activation(X, weights, bias)\n",
    "    \n",
    "    dw = np.dot(X.T,Y_-Y)\n",
    "    db = np.sum(Y_-Y)\n",
    "    \n",
    "    m = X.shape[0]\n",
    "    \n",
    "    weights -= learning_rate*dw/float(m)\n",
    "    bias -= learning_rate*db/float(m)\n",
    "    \n",
    "    return weights,bias\n",
    "\n",
    "def train(X,Y,learning_rate=0.5,maxEpochs=100):\n",
    "    weights = np.zeros(X.shape[1])\n",
    "    bias = 0\n",
    "    \n",
    "    for epoch in range(maxEpochs):\n",
    "        \n",
    "        weights, bias = update(X,Y,weights,bias,learning_rate)\n",
    "        \n",
    "        if epoch%10 == 0:\n",
    "            l = loss(X, Y, weights, bias)\n",
    "            print(\"Epoch %d Loss %.4f\"%(epoch, l))\n",
    "        \n",
    "    return weights, bias\n",
    "\n",
    "def activation(X, weights, bias):\n",
    "    z = np.dot(X, weights) + bias\n",
    "    probs = sigmoid(z)\n",
    "    return probs\n",
    "\n",
    "def getPredictions(X_Test, weights, bias):\n",
    "    probs = activation(X_Test, weights, bias)\n",
    "    labels = np.zeros(probs.shape)\n",
    "    labels[probs>=0.5] = 1\n",
    "    return labels"
   ]
  },
  {
   "cell_type": "markdown",
   "metadata": {},
   "source": [
    "## Data Generation"
   ]
  },
  {
   "cell_type": "code",
   "execution_count": 4,
   "metadata": {
    "collapsed": true
   },
   "outputs": [],
   "source": [
    "X,Y = make_blobs(n_samples=500,centers=2,n_features=2,random_state=10)"
   ]
  },
  {
   "cell_type": "markdown",
   "metadata": {},
   "source": [
    "## Training"
   ]
  },
  {
   "cell_type": "code",
   "execution_count": 5,
   "metadata": {},
   "outputs": [
    {
     "name": "stdout",
     "output_type": "stream",
     "text": [
      "Epoch 0 Loss 0.0006\n",
      "Epoch 10 Loss 0.0005\n",
      "Epoch 20 Loss 0.0005\n",
      "Epoch 30 Loss 0.0005\n",
      "Epoch 40 Loss 0.0005\n",
      "Epoch 50 Loss 0.0004\n",
      "Epoch 60 Loss 0.0004\n",
      "Epoch 70 Loss 0.0004\n",
      "Epoch 80 Loss 0.0004\n",
      "Epoch 90 Loss 0.0004\n",
      "Epoch 100 Loss 0.0004\n",
      "Epoch 110 Loss 0.0003\n",
      "Epoch 120 Loss 0.0003\n",
      "Epoch 130 Loss 0.0003\n",
      "Epoch 140 Loss 0.0003\n",
      "Epoch 150 Loss 0.0003\n",
      "Epoch 160 Loss 0.0003\n",
      "Epoch 170 Loss 0.0003\n",
      "Epoch 180 Loss 0.0003\n",
      "Epoch 190 Loss 0.0003\n"
     ]
    }
   ],
   "source": [
    "weights, bias = train(X,Y, maxEpochs=200)"
   ]
  },
  {
   "cell_type": "code",
   "execution_count": 6,
   "metadata": {},
   "outputs": [
    {
     "name": "stdout",
     "output_type": "stream",
     "text": [
      "[-0.26726659  1.95420335] 0.0371172352765\n"
     ]
    }
   ],
   "source": [
    "print(weights, bias)"
   ]
  },
  {
   "cell_type": "markdown",
   "metadata": {},
   "source": [
    "## Decision Surface "
   ]
  },
  {
   "cell_type": "code",
   "execution_count": 10,
   "metadata": {},
   "outputs": [
    {
     "data": {
      "image/png": "[encoded data removed]",
      "text/plain": [
       "<matplotlib.figure.Figure at 0x19a7efad940>"
      ]
     },
     "metadata": {},
     "output_type": "display_data"
    }
   ],
   "source": [
    "x1 = np.linspace(0,8,10)\n",
    "x2 = -(bias+x1*weights[0])/weights[1]\n",
    "\n",
    "plt.scatter(X[:,0], X[:,1], c=Y)\n",
    "plt.plot(x1, x2, c='blue')\n",
    "plt.show()"
   ]
  },
  {
   "cell_type": "markdown",
   "metadata": {},
   "source": [
    "## Accuracy"
   ]
  },
  {
   "cell_type": "code",
   "execution_count": 14,
   "metadata": {},
   "outputs": [
    {
     "name": "stdout",
     "output_type": "stream",
     "text": [
      "1.0\n"
     ]
    }
   ],
   "source": [
    "# since the data is linearly separable the accuracy should be 100%\n",
    "\n",
    "pred = getPredictions(X, weights, bias)\n",
    "accuracy = np.mean(pred == Y)\n",
    "print(accuracy)"
   ]
  },
  {
   "cell_type": "code",
   "execution_count": null,
   "metadata": {
    "collapsed": true
   },
   "outputs": [],
   "source": []
  }
 ],
 "metadata": {
  "kernelspec": {
   "display_name": "Python 3",
   "language": "python",
   "name": "python3"
  },
  "language_info": {
   "codemirror_mode": {
    "name": "ipython",
    "version": 3
   },
   "file_extension": ".py",
   "mimetype": "text/x-python",
   "name": "python",
   "nbconvert_exporter": "python",
   "pygments_lexer": "ipython3",
   "version": "3.6.3"
  }
 },
 "nbformat": 4,
 "nbformat_minor": 2
}

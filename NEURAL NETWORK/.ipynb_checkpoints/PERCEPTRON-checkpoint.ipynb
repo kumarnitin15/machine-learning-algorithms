{
 "cells": [
  {
   "cell_type": "code",
   "execution_count": 19,
   "metadata": {
    "collapsed": true
   },
   "outputs": [],
   "source": [
    "import numpy as np\n",
    "import matplotlib.pyplot as plt\n",
    "from sklearn.datasets import make_classification\n",
    "from sklearn.datasets import make_regression"
   ]
  },
  {
   "cell_type": "code",
   "execution_count": 20,
   "metadata": {
    "collapsed": true
   },
   "outputs": [],
   "source": [
    "# the perceptron training rule, assumming that the data is linearly separable\n",
    "\n",
    "# signum function\n",
    "def sgn(x, w, b):\n",
    "    value = (w * x).sum() + b\n",
    "    if value > 0:\n",
    "        return 1\n",
    "    return 0\n",
    "\n",
    "\n",
    "def num_of_misclassifications(x, y, w, b):\n",
    "    count = 0\n",
    "    for i in range(len(x)):\n",
    "        if sgn(np.array(x[i]), np.array(w), b) != y[i]:\n",
    "            count += 1\n",
    "            \n",
    "    return count\n",
    "\n",
    "\n",
    "def fit(x_train, y_train, learning_rate):\n",
    "    \n",
    "    # find the number of features\n",
    "    n = len(x_train[0])\n",
    "    w = [0 for i in range(n)]\n",
    "    b = 0\n",
    "    \n",
    "    print(\"Number of misclassifications are \", num_of_misclassifications(x_train, y_train, w, b))\n",
    "    \n",
    "    # apply the perceptron training rule\n",
    "    flag = False\n",
    "    itr = 0\n",
    "    while flag == False:\n",
    "        flag = True\n",
    "        for i in range(len(x_train)):\n",
    "            if sgn(np.array(x_train[i]), np.array(w), b) != y_train[i]:\n",
    "                flag = False\n",
    "                for j in range(n):\n",
    "                    w[j] += learning_rate * (y_train[i] - sgn(np.array(x_train[i]), np.array(w), b)) * x_train[i][j]\n",
    "                b += learning_rate * (y_train[i] - sgn(np.array(x_train[i]), np.array(w), b))\n",
    "        print(\"Number of misclassifications are \", num_of_misclassifications(x_train, y_train, w, b))  \n",
    "    return w, b"
   ]
  },
  {
   "cell_type": "code",
   "execution_count": 27,
   "metadata": {},
   "outputs": [
    {
     "data": {
      "image/png": "[encoded data removed]",
      "text/plain": [
       "<matplotlib.figure.Figure at 0x1ce72cb4cf8>"
      ]
     },
     "metadata": {},
     "output_type": "display_data"
    }
   ],
   "source": [
    "separable = False\n",
    "while not separable:\n",
    "    samples = make_classification(n_samples=200, n_features=2, n_redundant=0, n_informative=1, n_clusters_per_class=1, flip_y=-1)\n",
    "    red = samples[0][samples[1] == 0]\n",
    "    blue = samples[0][samples[1] == 1]\n",
    "    separable = any([red[:, k].max() < blue[:, k].min() or red[:, k].min() > blue[:, k].max() for k in range(2)])\n",
    "plt.plot(red[:, 0], red[:, 1], 'r.')\n",
    "plt.plot(blue[:, 0], blue[:, 1], 'b.')\n",
    "plt.show()"
   ]
  },
  {
   "cell_type": "code",
   "execution_count": 28,
   "metadata": {},
   "outputs": [
    {
     "name": "stdout",
     "output_type": "stream",
     "text": [
      "Number of misclassifications are  100\n",
      "Number of misclassifications are  1\n",
      "Number of misclassifications are  0\n",
      "Number of misclassifications are  0\n"
     ]
    }
   ],
   "source": [
    "x_train = list(samples[0])\n",
    "for i in range(len(x_train)):\n",
    "    x_train[i] = list(x_train[i])\n",
    "    \n",
    "y_train = list(samples[1])\n",
    "\n",
    "w, b = fit(x_train, y_train, 0.1)"
   ]
  },
  {
   "cell_type": "code",
   "execution_count": null,
   "metadata": {
    "collapsed": true
   },
   "outputs": [],
   "source": []
  },
  {
   "cell_type": "code",
   "execution_count": 101,
   "metadata": {
    "collapsed": true
   },
   "outputs": [],
   "source": [
    "# using a loss function: binary cross entropy\n",
    "# alorithm used: grai\n",
    "\n",
    "def sigmoid(z):\n",
    "    return (1.0)/(1+np.exp(-z))\n",
    "\n",
    "# Loss function (Binary cross entropy)\n",
    "def loss(X, Y, weights, bias):\n",
    "    Y_ = predict(X, weights, bias)\n",
    "    cost = np.mean(-Y*np.log(Y_)) + np.mean(-(1-Y)*np.log(1-Y_))\n",
    "    return cost\n",
    "\n",
    "def update(X, Y, weights, bias, learning_rate):\n",
    "    Y_ = predict(X, weights, bias)\n",
    "    \n",
    "    dw = np.dot(X.T,Y_-Y)\n",
    "    db = np.sum(Y_-Y)\n",
    "    \n",
    "    m = X.shape[0]\n",
    "    \n",
    "    weights -= learning_rate*dw/float(m)\n",
    "    bias -= learning_rate*db/float(m)\n",
    "    \n",
    "    return weights,bias\n",
    "\n",
    "def train(X,Y,learning_rate=0.5,maxEpochs=100):\n",
    "    weights = np.zeros(X.shape[1])\n",
    "    bias = 0\n",
    "    \n",
    "    for epoch in range(maxEpochs):\n",
    "        \n",
    "        weights, bias = update(X,Y,weights,bias,learning_rate)\n",
    "        \n",
    "        if epoch%10 == 0:\n",
    "            l = loss(X, Y, weights, bias)\n",
    "            print(\"Epoch %d Loss %.4f\"%(epoch, l))\n",
    "        \n",
    "    return weights, bias\n",
    "\n",
    "# Make the predictions\n",
    "def predict(X, weights, bias):\n",
    "    z = np.dot(X, weights) + bias\n",
    "    predictions = sigmoid(z)\n",
    "    return predictions"
   ]
  },
  {
   "cell_type": "code",
   "execution_count": null,
   "metadata": {
    "collapsed": true
   },
   "outputs": [],
   "source": []
  },
  {
   "cell_type": "code",
   "execution_count": null,
   "metadata": {},
   "outputs": [],
   "source": []
  },
  {
   "cell_type": "code",
   "execution_count": null,
   "metadata": {},
   "outputs": [],
   "source": []
  },
  {
   "cell_type": "code",
   "execution_count": null,
   "metadata": {
    "collapsed": true
   },
   "outputs": [],
   "source": []
  }
 ],
 "metadata": {
  "kernelspec": {
   "display_name": "Python 3",
   "language": "python",
   "name": "python3"
  },
  "language_info": {
   "codemirror_mode": {
    "name": "ipython",
    "version": 3
   },
   "file_extension": ".py",
   "mimetype": "text/x-python",
   "name": "python",
   "nbconvert_exporter": "python",
   "pygments_lexer": "ipython3",
   "version": "3.6.3"
  }
 },
 "nbformat": 4,
 "nbformat_minor": 2
}
